{
 "cells": [
  {
   "cell_type": "markdown",
   "id": "1ba33a6f-5cd1-409f-8703-2a3a374f912d",
   "metadata": {},
   "source": [
    "# Palindrome checker\n",
    "\n",
    "Given a string, determine if it is a palindrome\n",
    "\n",
    "## Criteria:\n",
    "1. Function returns True if palindrome, else False\n",
    "2. Palindrom is same string either direction\n",
    "3. Function named \"palindrome_check\" and have worst case of O(n) or better.\n",
    "\n",
    "### Examples:\n",
    "- racecar\n",
    "- 1331\n",
    "- abcba"
   ]
  },
  {
   "cell_type": "code",
   "execution_count": 24,
   "id": "b2f26b8c-30ea-4bb9-8308-fa77a48a2349",
   "metadata": {},
   "outputs": [],
   "source": [
    "def palindrome_check(data):\n",
    "    if isinstance(data,str):\n",
    "        data = data.lower()\n",
    "    else:\n",
    "        raise TypeError(\"Data must be type: STR\")\n",
    "        \n",
    "    is_odd = False\n",
    "    data_len = len(data)\n",
    "    \n",
    "    if data_len % 2 == 1:\n",
    "        is_odd = True\n",
    "        \n",
    "    center = (data_len+1)/2  if is_odd else data_len/2+1\n",
    "    \n",
    "    count = 1\n",
    "    for i in data:\n",
    "        if count == center:\n",
    "            return True\n",
    "        if i != data[(data_len-count)]:\n",
    "            return False\n",
    "        count +=1\n",
    "    \n",
    "        \n",
    "    \n",
    "    \n",
    "# Find center and odd\n",
    "# Iterate and compare in reverse"
   ]
  },
  {
   "cell_type": "code",
   "execution_count": 25,
   "id": "7043ab58-b839-4acb-8ed8-5ac249b67593",
   "metadata": {},
   "outputs": [
    {
     "name": "stdout",
     "output_type": "stream",
     "text": [
      "True\n",
      "True\n",
      "True\n",
      "False\n",
      "True\n",
      "False\n"
     ]
    }
   ],
   "source": [
    "print(palindrome_check(\"racecar\"))\n",
    "print(palindrome_check(\"1331\"))\n",
    "print(palindrome_check(\"abcba\"))\n",
    "print(palindrome_check(\";lkjasdf\"))\n",
    "print(palindrome_check(\"asdfgfdsa\"))\n",
    "print(palindrome_check(\"asdksa\"))"
   ]
  },
  {
   "cell_type": "markdown",
   "id": "0b703d55-9710-411f-8e20-ac7d93e23b1c",
   "metadata": {},
   "source": [
    "# Problem 2\n",
    "\n",
    "## Balanced parentheses check\n",
    "\n",
    "Given a string consisting solely of some combination of the following characters: \"{\", \"(\", \"[\", \"]\", \")\", \"}\"\n",
    "... determine if it is balanced.\n",
    "\n",
    "### Criteria\n",
    "1. A string is balanced if all parentheses (or brackets/braces) close in the same order they were opened.\n",
    "2. Your function, \"balance_check\" should return True, if the string is balanced, False otherwise.\n",
    "\n",
    "### Example(s)\n",
    "```\n",
    "balanced: [[{{()}}]]\n",
    "not balanced: {{{(}}}}\n",
    "balanced: ()()()[[[]]]\n",
    "not balanced: [[[()(}()]]]\n",
    "```"
   ]
  },
  {
   "cell_type": "code",
   "execution_count": 29,
   "id": "f81e98b2-d5ba-4384-aa17-c560551939ad",
   "metadata": {},
   "outputs": [],
   "source": [
    "def balance_check(data):\n",
    "    close_dict = {\n",
    "        \"[\":\"]\",\n",
    "        \"(\":\")\",\n",
    "        \"{\":\"}\"\n",
    "    }\n",
    "\n",
    "    if len(data) % 2 == 1:\n",
    "        return False\n",
    "        \n",
    "    open_list = []\n",
    "    for i in data:\n",
    "        if i in close_dict:\n",
    "            open_list.insert(0, i)\n",
    "        elif open_list[0] and close_dict[open_list[0]] == i: \n",
    "            open_list.pop(0)\n",
    "        else:\n",
    "            return False\n",
    "            \n",
    "    return len(open_list) == 0\n",
    "    \n",
    "    "
   ]
  },
  {
   "cell_type": "code",
   "execution_count": 32,
   "id": "18934c89-4c62-4cb4-a209-b308b4f1e451",
   "metadata": {},
   "outputs": [
    {
     "name": "stdout",
     "output_type": "stream",
     "text": [
      "True\n",
      "False\n",
      "True\n",
      "False\n",
      "False\n"
     ]
    }
   ],
   "source": [
    "print(balance_check(\"[[{{()}}]]\"))\n",
    "print(balance_check(\"{{{(}}}}\"))\n",
    "print(balance_check(\"()()()[[[]]]\"))\n",
    "print(balance_check(\"[[[()(}()]]]\"))\n",
    "print(balance_check(\"}{}()\"))"
   ]
  },
  {
   "cell_type": "code",
   "execution_count": 46,
   "id": "3460e281-5393-4b29-bdb5-f61fc74c1ac3",
   "metadata": {},
   "outputs": [],
   "source": [
    "class HashTable:\n",
    "    def __init__(self, size):\n",
    "        self.size = size\n",
    "        self.slots = [None] * self.size\n",
    "        self.data = [None] * self.size\n",
    "\n",
    "    def put(self, key, data):\n",
    "        hashvalue = self.hashfunction(key, len(self.slots))\n",
    "\n",
    "        if self.slots[hashvalue] == None:\n",
    "            self.slots[hashvalue] = key\n",
    "            self.data[hashvalue] = data\n",
    "        else:\n",
    "            if self.slots[hashvalue] == key:\n",
    "                self.data[hashvalue] = data\n",
    "            else:\n",
    "                nextslot = self.rehash(hashvalue, len(self.slots))\n",
    "\n",
    "                while self.slots[nextslot] != None and self.slots[nextslot] != key:\n",
    "                    nextslot = self.rehash(nextslot, len(self.slots))\n",
    "                    # set new key if none\n",
    "                    if self.slots[nextslot] == None:\n",
    "                        self.slots[nextslot] = key\n",
    "                        self.data[nextslot] = data\n",
    "                    else:\n",
    "                        self.data[nextslot] = data\n",
    "\n",
    "    def hashfunction(self, key, size):\n",
    "        # remainder method\n",
    "        return key % size\n",
    "\n",
    "    def rehash(self, oldhash, size):\n",
    "        # For finding next possible position\n",
    "        return (oldhash+1) % size\n",
    "        \n",
    "    def get(self, key):\n",
    "        startslot = self.hashfunction(key, len(self.slots))\n",
    "        data = None\n",
    "        stop = False\n",
    "        found = False\n",
    "        position = startslot\n",
    "\n",
    "        while self.slots[position] != None and not found and not stop:\n",
    "            if self.slots[position] == key:\n",
    "                found = True\n",
    "                data = self.data[position]\n",
    "            else:\n",
    "                position = self.rehash(position, len(self.slots))\n",
    "                if position == startslot:\n",
    "                    stop = True\n",
    "        return data\n",
    "\n",
    "    def __getitem__(self, key):\n",
    "        return self.get(key)\n",
    "\n",
    "    def __setitem__(self, key, data):\n",
    "        self.put(key,data)\n",
    "        \n",
    "        "
   ]
  },
  {
   "cell_type": "code",
   "execution_count": 44,
   "id": "f219325c-f760-44c9-80d7-1270c639ba7e",
   "metadata": {},
   "outputs": [],
   "source": [
    "\n",
    "\n",
    "def fibonacci_hash(n):\n",
    "    my_hash = HashTable(n +1)\n",
    "    def fibonacci(n):\n",
    "        # Ensure termination\n",
    "        if n == 0:\n",
    "            return 0\n",
    "        if n == 1:\n",
    "            return 1\n",
    "            \n",
    "        if my_hash.get(n) is not None:\n",
    "            return my_hash.get(n)\n",
    "        else:\n",
    "            result = fibonacci(n-1) + fibonacci(n-2)\n",
    "            my_hash.put(n, result)\n",
    "            return result\n",
    "    return fibonacci(n)"
   ]
  },
  {
   "cell_type": "code",
   "execution_count": 50,
   "id": "45c7763b-1da0-40f7-b126-bfe5a840d43e",
   "metadata": {},
   "outputs": [
    {
     "name": "stdout",
     "output_type": "stream",
     "text": [
      "13\n"
     ]
    }
   ],
   "source": [
    "print(fibonacci_hash(7))"
   ]
  },
  {
   "cell_type": "code",
   "execution_count": null,
   "id": "fa6252da-0cae-41a6-9616-3b341be9a07a",
   "metadata": {},
   "outputs": [],
   "source": []
  }
 ],
 "metadata": {
  "kernelspec": {
   "display_name": "Python 3 (ipykernel)",
   "language": "python",
   "name": "python3"
  },
  "language_info": {
   "codemirror_mode": {
    "name": "ipython",
    "version": 3
   },
   "file_extension": ".py",
   "mimetype": "text/x-python",
   "name": "python",
   "nbconvert_exporter": "python",
   "pygments_lexer": "ipython3",
   "version": "3.12.3"
  }
 },
 "nbformat": 4,
 "nbformat_minor": 5
}
