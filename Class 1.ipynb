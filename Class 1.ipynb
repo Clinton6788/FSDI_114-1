{
 "cells": [
  {
   "cell_type": "code",
   "execution_count": 24,
   "id": "12d30f2c-b6c8-4982-86ed-50c461712479",
   "metadata": {},
   "outputs": [],
   "source": [
    "class Stack:\n",
    "    def __init__(self):\n",
    "        self.items = []\n",
    "\n",
    "    def push(self, e):\n",
    "        self.items.append(e)\n",
    "\n",
    "    def pop(self):\n",
    "        return self.items.pop()\n",
    "\n",
    "    def is_empty(self):\n",
    "        return self.items == []\n",
    "\n",
    "    def peek(self):\n",
    "        if not self.is_empty():\n",
    "            return self.items[len(self.items)-1]\n",
    "        else:\n",
    "            return print(\"list is empty\")\n",
    "\n",
    "    def size(self):\n",
    "        return len(self.items)"
   ]
  },
  {
   "cell_type": "code",
   "execution_count": 36,
   "id": "98c534bb-d283-4586-80f3-06be8dd3439b",
   "metadata": {},
   "outputs": [
    {
     "name": "stdout",
     "output_type": "stream",
     "text": [
      "6\n",
      "5\n",
      "5\n",
      "4\n",
      "3\n",
      "2\n",
      "1\n",
      "0\n",
      "0\n"
     ]
    }
   ],
   "source": [
    "s = Stack()\n",
    "\n",
    "for n in range(6):\n",
    "    s.push(n)\n",
    "\n",
    "result= s.size()\n",
    "print(result)\n",
    "print(s.peek())\n",
    "\n",
    "for _ in range(s.size()):\n",
    "    print(s.pop())\n",
    "print(s.size())"
   ]
  },
  {
   "cell_type": "code",
   "execution_count": 33,
   "id": "5f4f90ee-a28a-493a-a1d7-690ffac270e4",
   "metadata": {},
   "outputs": [],
   "source": [
    "class Queue:\n",
    "    def __init__(self):\n",
    "        self.items = []\n",
    "\n",
    "    def enqueue(self, e):\n",
    "        self.items.append(e)\n",
    "\n",
    "    def dequeue(self):\n",
    "        return self.items.pop(0)\n",
    "\n",
    "    def is_empty(self):\n",
    "        return self.items == []\n",
    "\n",
    "    def peek(self):\n",
    "        if not self.is_empty():\n",
    "            return self.items[0]\n",
    "        else:\n",
    "            return None\n",
    "            \n",
    "    def size(self):\n",
    "        return len(self.items)\n",
    "    "
   ]
  },
  {
   "cell_type": "code",
   "execution_count": 32,
   "id": "27c48c04-ea1e-43eb-b170-866ff34f4ab5",
   "metadata": {},
   "outputs": [
    {
     "name": "stdout",
     "output_type": "stream",
     "text": [
      "0\n",
      "1\n",
      "2\n",
      "3\n",
      "4\n",
      "5\n",
      "6\n",
      "7\n",
      "8\n",
      "9\n",
      "10\n"
     ]
    }
   ],
   "source": [
    "x=[i for i in range(11)]\n",
    "\n",
    "def delay_items(l):\n",
    "    q = Queue()\n",
    "    for n in l:\n",
    "        q.enqueue(n)\n",
    "    while not q.is_empty():\n",
    "        print(q.dequeue())\n",
    "delay_items(x)"
   ]
  },
  {
   "cell_type": "code",
   "execution_count": 34,
   "id": "dd137410-a46d-4534-ae46-a6cfe77dc624",
   "metadata": {},
   "outputs": [],
   "source": [
    "def anagram(w1: str, w2: str):\n",
    "    return sorted(w1) == sorted(w2)"
   ]
  },
  {
   "cell_type": "code",
   "execution_count": 44,
   "id": "6f7b403a-dbc6-4244-99ca-56d57f13e119",
   "metadata": {},
   "outputs": [
    {
     "name": "stdout",
     "output_type": "stream",
     "text": [
      "It was an anagram\n",
      "Not an anagram\n",
      "It was an anagram\n"
     ]
    }
   ],
   "source": [
    "def other_anagram(w1, w2):\n",
    "    w1 = w1.replace(\" \",\"\").lower()\n",
    "    w2 = w2.replace(\" \",\"\").lower()\n",
    "    # Solution with no 'helper' python functions. Although they are part of the language? \n",
    "    # Also assuming the above built in python functions are fine \n",
    "    # and I do not need to iterate over each letter and replace with a corresponding dict 'lowercase'\n",
    "    # not sure what I can and can't use and I'm a little grumpy.\n",
    "    w1_len = 0\n",
    "    w2_len = 0\n",
    "    w1_li = []\n",
    "    w2_li = []\n",
    "    # Assuming no len, zip, sort or enumerate. This function is going to be SLOW...\n",
    "    for i in w1:\n",
    "        assert isinstance(i,str),\"Ensure only strings\"\n",
    "        w1_len += 1\n",
    "        w1_li.append(i)\n",
    "    for i in w2:\n",
    "        assert isinstance(i,str),\"Ensure only strings\"\n",
    "        w2_len += 1\n",
    "        w2_li.append(i)\n",
    "    if w1_len != w2_len:\n",
    "        return print(\"Not an anagram\")\n",
    "    else:\n",
    "        for i in w1_li:\n",
    "            try:\n",
    "                w2_li.remove(i)\n",
    "            except:\n",
    "                print(\"Not an anagram\")\n",
    "    # Last check to be sure.\n",
    "    if w2_li == []:\n",
    "        print(\"It was an anagram\")\n",
    "    else:\n",
    "        print(\"An error has occured\")\n",
    "        \n",
    "other_anagram(\"sfdalkj\",\"jklasdf\")\n",
    "other_anagram(\"asdlkfj\",\"fjdklsas\")\n",
    "other_anagram(\"I am lorD VolDeMort\",\"tom Marvolo RiDDle\")\n",
    "\n",
    "        \n",
    "            \n",
    "        "
   ]
  },
  {
   "cell_type": "code",
   "execution_count": null,
   "id": "12b27e08-a8d5-4502-8429-a5f81e7e04b3",
   "metadata": {},
   "outputs": [],
   "source": []
  }
 ],
 "metadata": {
  "kernelspec": {
   "display_name": "Python 3 (ipykernel)",
   "language": "python",
   "name": "python3"
  },
  "language_info": {
   "codemirror_mode": {
    "name": "ipython",
    "version": 3
   },
   "file_extension": ".py",
   "mimetype": "text/x-python",
   "name": "python",
   "nbconvert_exporter": "python",
   "pygments_lexer": "ipython3",
   "version": "3.12.3"
  }
 },
 "nbformat": 4,
 "nbformat_minor": 5
}
