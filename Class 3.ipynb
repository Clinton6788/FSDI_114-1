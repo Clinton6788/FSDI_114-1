{
 "cells": [
  {
   "cell_type": "markdown",
   "id": "3b601f83-5aa5-4252-bfbb-1e43ea6115bd",
   "metadata": {},
   "source": [
    "# Problem 1\n",
    "\n",
    "## Create a doubly linked list\n",
    "\n",
    "### Acceptance Criteria\n",
    "1. Your doubly linked list should support the append method, with a worst-case time complexity of O(1) (constant time)\n",
    "2. Your doubly linked list should support the dunder len method with a worst-case time complexity of O(1) (constant time)\n",
    "3. Your doubly linked list should support the remove method with a worst-case time complexity of O(n) (linear time)\n",
    "4. Your doubly linked list should support the index method with a worst-case time complexity of O(n) (linear time)\n",
    "    4.1. Your index method should return the first position that matches the target value (the value received as a parameter).\n",
    "5. Your doubly linked list should support the str dunder method with a worst-case time complexity of O(n)\n",
    "\n",
    "## Bonus\n",
    "See if you can upgrade the time complexity for the str dunder method from O(n) to O(1), be prepared to discuss trade-offs.\n"
   ]
  },
  {
   "cell_type": "code",
   "execution_count": 1,
   "id": "f90d7780-645c-4ef2-af7f-4bc19d4c867f",
   "metadata": {},
   "outputs": [],
   "source": [
    "class DoublyLinkedList():\n",
    "    class __Node:\n",
    "        def __init__(self, datum):\n",
    "            self.data = datum\n",
    "            self.prev = None\n",
    "            self.next = None\n",
    "    def __init__(self):\n",
    "        self.head = None\n",
    "        self.tail = None\n",
    "        self.len = 0\n",
    "\n",
    "    def append(self, datum):\n",
    "        n = self.__Node(datum)\n",
    "        if not self.head:\n",
    "            self.head = n\n",
    "            self.tail = n\n",
    "        else:\n",
    "            old_tail = self.tail\n",
    "            old_tail.next = n\n",
    "            n.prev = old_tail\n",
    "            self.tail = n\n",
    "        self.len +=1\n",
    "\n",
    "    def remove(self, datum):\n",
    "        current = self.head\n",
    "        found = False\n",
    "        while current and not found:\n",
    "            if current.data == datum:\n",
    "                found = True\n",
    "                next_n = current.next\n",
    "                prev_n = current.prev\n",
    "        if found:\n",
    "            self.len -=1\n",
    "            if not prev_n: # if @ head\n",
    "                self.head = next_n\n",
    "                next_n.prev = None\n",
    "                if not self.head: # if list will be empty\n",
    "                    self.tail = None\n",
    "                    return\n",
    "            elif not next_n: # if @ tail (list>=2)\n",
    "                self.tail = prev_n\n",
    "                prev_n.next = None\n",
    "            else: # In the middle (list >= 3)\n",
    "                prev_n.next = next_n\n",
    "                next_n.prev = prev_n\n",
    "        else:\n",
    "            raise ValueError(\"Target value not found\")\n",
    "\n",
    "    def index(self, datum):\n",
    "        current = self.head\n",
    "        count = 0\n",
    "        while current:\n",
    "            if current.data == datum:\n",
    "                return count\n",
    "            if count == self.len:\n",
    "                raise IndexError(\"Data not found\")\n",
    "            current = current.next\n",
    "            count += 1\n",
    "            \n",
    "    def __len__(self):\n",
    "        return self.len\n",
    "\n",
    "    def __str__(self):\n",
    "        out = \"[\"\n",
    "        current = self.head\n",
    "        if current:\n",
    "            out += \"%s\" % current.data\n",
    "            current = current.next\n",
    "            while current:\n",
    "                out += \", %s\" % current.data\n",
    "                current = current.next\n",
    "        out += \"]\"\n",
    "        return out\n",
    "                \n",
    "                \n",
    "                    \n",
    "                    \n",
    "            "
   ]
  },
  {
   "cell_type": "markdown",
   "id": "249cd96b-197e-49a2-94a4-e9a411fed554",
   "metadata": {},
   "source": [
    "# Recursive Functions:"
   ]
  },
  {
   "cell_type": "markdown",
   "id": "599bdd73-7795-4dfa-832c-96f22bf2c195",
   "metadata": {},
   "source": [
    "# Factorial Function\n",
    "The factorial of a number is the product of that number multiplied by all the preceding numbers before raching 0\n",
    "For example, factorial of five would be\n",
    "5! = 5x4x3x2x1\n",
    "5! = 5x4!\n",
    "4! = 4x3!\n",
    "\n",
    "n! = n x(n-1)!\n",
    "\n",
    "0! = 1"
   ]
  },
  {
   "cell_type": "code",
   "execution_count": 5,
   "id": "731ac14a-a8cd-492a-96c5-fb5519d5bbcf",
   "metadata": {},
   "outputs": [],
   "source": [
    "\n",
    "def factorial(n):\n",
    "    if n <1:\n",
    "        return 1\n",
    "    return n * factorail (n-1)"
   ]
  },
  {
   "cell_type": "code",
   "execution_count": 6,
   "id": "9ba09851-401f-49f9-8f35-bad1e6319754",
   "metadata": {},
   "outputs": [
    {
     "data": {
      "text/plain": [
       "120"
      ]
     },
     "execution_count": 6,
     "metadata": {},
     "output_type": "execute_result"
    }
   ],
   "source": [
    "factorial(5)"
   ]
  },
  {
   "cell_type": "markdown",
   "id": "a80008ad-1ed1-45b8-8210-565460c3771a",
   "metadata": {},
   "source": [
    "# Fibonnaci\n",
    "F[n] = F[n] -1 + F[n] -2\n",
    "\n",
    "F0 = 0\n",
    "F1 = 1\n",
    "\n",
    "0, 1, 1, 2, 3, 5, 8, 13, 21 ...."
   ]
  },
  {
   "cell_type": "code",
   "execution_count": 40,
   "id": "008ba8de-bf2f-45d2-84dd-d5f566ab5887",
   "metadata": {},
   "outputs": [],
   "source": [
    "from functools import lru_cache\n",
    "\n",
    "@lru_cache\n",
    "def fibonacci(n):\n",
    "    if n <2:\n",
    "        return n\n",
    "    return fibonacci(n-1) + fibonacci(n-2)"
   ]
  },
  {
   "cell_type": "code",
   "execution_count": 55,
   "id": "16e4ff0c-d1bc-4c43-a874-ffa3fbaaf8e6",
   "metadata": {},
   "outputs": [
    {
     "data": {
      "text/plain": [
       "12586269025"
      ]
     },
     "execution_count": 55,
     "metadata": {},
     "output_type": "execute_result"
    }
   ],
   "source": [
    "# for number in range(100):\n",
    "#     fibonacci(number * 100)\n",
    "\n",
    "fibonacci(50)"
   ]
  },
  {
   "cell_type": "markdown",
   "id": "602c6ef8-4cc8-465b-baf3-cd34febe9f23",
   "metadata": {},
   "source": [
    "# Problem 2\n",
    "\n",
    "## Replace LRU cache with a python dict\n",
    "\n",
    "### Your py dict should be defined outside the function\n",
    "1. Check if the parameter that is being recieved exists as a key in dict. If yes, return val\n",
    "2. if key not in dict, trigger the rest of instructions in function, but save result as entry in dict\n",
    "3. Test"
   ]
  },
  {
   "cell_type": "code",
   "execution_count": 50,
   "id": "79a935b8-957f-40e4-bc97-a17f59eb4d9f",
   "metadata": {},
   "outputs": [],
   "source": [
    "my_dict = {0:0, 1:1}\n",
    "\n",
    "def fibonacci_dict(n, cont = True):\n",
    "    if n in my_dict:\n",
    "        return my_dict[n]\n",
    "    else:\n",
    "        my_dict[n] = fibonacci_dict(n-1) + fibonacci_dict(n-2)\n",
    "        return my_dict[n]"
   ]
  },
  {
   "cell_type": "code",
   "execution_count": 56,
   "id": "9a2b33e9-2452-4618-8458-45337c31f472",
   "metadata": {},
   "outputs": [
    {
     "data": {
      "text/plain": [
       "12586269025"
      ]
     },
     "execution_count": 56,
     "metadata": {},
     "output_type": "execute_result"
    }
   ],
   "source": [
    "fibonacci_dict(50)"
   ]
  },
  {
   "cell_type": "code",
   "execution_count": null,
   "id": "7c422c47-4bd9-4b66-8e0b-ff9dbff2d9f2",
   "metadata": {},
   "outputs": [],
   "source": [
    "\n"
   ]
  }
 ],
 "metadata": {
  "kernelspec": {
   "display_name": "Python 3 (ipykernel)",
   "language": "python",
   "name": "python3"
  },
  "language_info": {
   "codemirror_mode": {
    "name": "ipython",
    "version": 3
   },
   "file_extension": ".py",
   "mimetype": "text/x-python",
   "name": "python",
   "nbconvert_exporter": "python",
   "pygments_lexer": "ipython3",
   "version": "3.12.3"
  }
 },
 "nbformat": 4,
 "nbformat_minor": 5
}
